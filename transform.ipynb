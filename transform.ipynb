{
 "cells": [
  {
   "cell_type": "code",
   "execution_count": 31,
   "metadata": {},
   "outputs": [],
   "source": [
    "import json\n",
    "import csv\n",
    "import os"
   ]
  },
  {
   "cell_type": "code",
   "execution_count": 32,
   "metadata": {},
   "outputs": [],
   "source": [
    "def get_data(result):\n",
    "    results = []\n",
    "\n",
    "    for benchmark in result[\"benchmarks\"]:\n",
    "        if \"metadata\" in benchmark:\n",
    "            name = benchmark[\"metadata\"][\"name\"]\n",
    "        else:\n",
    "            name = result[\"metadata\"][\"name\"]\n",
    "        data = []\n",
    "        for run in benchmark[\"runs\"]:\n",
    "            data.extend(run.get(\"values\", []))\n",
    "        results.append([name, *data])\n",
    "\n",
    "    return results"
   ]
  },
  {
   "cell_type": "code",
   "execution_count": 33,
   "metadata": {},
   "outputs": [],
   "source": [
    "root = \"results\"\n",
    "runs = [f\"{root}/{run}\" for run in os.listdir(root)]\n",
    "\n",
    "for run in runs:\n",
    "    suites = [f\"{run}/{bm}\" for bm in os.listdir(run)]\n",
    "\n",
    "    for suite in suites:\n",
    "        with open(suite) as fd:\n",
    "            raw_data = json.load(fd)\n",
    "\n",
    "        bms = get_data(raw_data)\n",
    "\n",
    "        output = suite.replace(\"results\", \"csv\").replace(\"json\", \"csv\")\n",
    "        with open(output, \"w\") as csvfile:\n",
    "            writer = csv.writer(csvfile)\n",
    "            for bm in bms:\n",
    "                writer.writerow(bm)\n",
    "\n"
   ]
  }
 ],
 "metadata": {
  "kernelspec": {
   "display_name": "venv",
   "language": "python",
   "name": "python3"
  },
  "language_info": {
   "codemirror_mode": {
    "name": "ipython",
    "version": 3
   },
   "file_extension": ".py",
   "mimetype": "text/x-python",
   "name": "python",
   "nbconvert_exporter": "python",
   "pygments_lexer": "ipython3",
   "version": "3.11.3"
  },
  "orig_nbformat": 4
 },
 "nbformat": 4,
 "nbformat_minor": 2
}
